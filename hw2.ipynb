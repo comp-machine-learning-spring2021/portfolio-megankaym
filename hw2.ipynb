{
 "cells": [
  {
   "cell_type": "markdown",
   "metadata": {},
   "source": [
    "# Question 3\n",
    "The "
   ]
  },
  {
   "cell_type": "code",
   "execution_count": null,
   "metadata": {},
   "outputs": [],
   "source": [
    "def my_kmeans(nparray, k, random_state):\n",
    "    df = pd.DataFrame(nparray)\n",
    "    centers = df.sample(k, random_state = random_state)\n",
    "    centers_np = centers.to_numpy()\n",
    "    dists = distance.cdist(nparray, centers_np, 'euclidean')\n",
    "    clusters = np.argmin(dists, axis=1)\n",
    "\n",
    "    for item in range(k): #for each cluster (index based)\n",
    "        inds = clusters == item\n",
    "        points = []\n",
    "        for index, cluster in enumerate(cluster):\n",
    "            new_centroid = np.mean(X[cluster], axis=0)\n",
    "            centers[index] = new_centroid\n",
    "            points.append(my_avg)\n",
    "    \n",
    "    dpoints = pd.DataFrame(points)\n",
    "    return dpoints, inds"
   ]
  },
  {
   "cell_type": "code",
   "execution_count": null,
   "metadata": {},
   "outputs": [],
   "source": [
    "my_kmeans()"
   ]
  }
 ],
 "metadata": {
  "kernelspec": {
   "display_name": "Python 3 (ipykernel)",
   "language": "python",
   "name": "python3"
  },
  "language_info": {
   "codemirror_mode": {
    "name": "ipython",
    "version": 3
   },
   "file_extension": ".py",
   "mimetype": "text/x-python",
   "name": "python",
   "nbconvert_exporter": "python",
   "pygments_lexer": "ipython3",
   "version": "3.9.7"
  }
 },
 "nbformat": 4,
 "nbformat_minor": 2
}
